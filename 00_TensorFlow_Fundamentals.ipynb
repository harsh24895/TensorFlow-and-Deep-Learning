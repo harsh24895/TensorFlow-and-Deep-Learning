{
  "nbformat": 4,
  "nbformat_minor": 0,
  "metadata": {
    "colab": {
      "provenance": [],
      "authorship_tag": "ABX9TyMFKkuNAmAAZpbH9hXa26ng"
    },
    "kernelspec": {
      "name": "python3",
      "display_name": "Python 3"
    },
    "language_info": {
      "name": "python"
    }
  },
  "cells": [
    {
      "cell_type": "code",
      "execution_count": 24,
      "metadata": {
        "id": "jLvV0fWK3E7K"
      },
      "outputs": [],
      "source": [
        "# This is notebook cover some of the fundamentals of TensorFlow"
      ]
    },
    {
      "cell_type": "markdown",
      "source": [
        "#INtroduction to Tensors"
      ],
      "metadata": {
        "id": "aJrqwoPxF0Ic"
      }
    },
    {
      "cell_type": "code",
      "source": [
        "#Import Tensorflow\n",
        "import tensorflow as tf\n",
        "print(tf.__version__ )"
      ],
      "metadata": {
        "colab": {
          "base_uri": "https://localhost:8080/"
        },
        "id": "r2yELMQSFzwV",
        "outputId": "eda690c9-52a5-4a7a-f034-14848e2922e1"
      },
      "execution_count": 25,
      "outputs": [
        {
          "output_type": "stream",
          "name": "stdout",
          "text": [
            "2.18.0\n"
          ]
        }
      ]
    },
    {
      "cell_type": "code",
      "source": [
        "# Create tensors with tf.constant()\n",
        "scalar = tf.constant(7)\n",
        "scalar"
      ],
      "metadata": {
        "colab": {
          "base_uri": "https://localhost:8080/"
        },
        "id": "Fjjx6-_pHb4K",
        "outputId": "3e2929a7-5392-4b3a-cc4c-514419be580c"
      },
      "execution_count": 26,
      "outputs": [
        {
          "output_type": "execute_result",
          "data": {
            "text/plain": [
              "<tf.Tensor: shape=(), dtype=int32, numpy=7>"
            ]
          },
          "metadata": {},
          "execution_count": 26
        }
      ]
    },
    {
      "cell_type": "code",
      "source": [
        "#Check the number of dimensions of a tensor(ndim stands for number for dimensions)\n",
        "scalar.ndim #Scalar have no dimension you can see in output"
      ],
      "metadata": {
        "colab": {
          "base_uri": "https://localhost:8080/"
        },
        "id": "xT_VtO3MGfSb",
        "outputId": "96c6bf14-fee6-4f9e-89df-b20d03499251"
      },
      "execution_count": 27,
      "outputs": [
        {
          "output_type": "execute_result",
          "data": {
            "text/plain": [
              "0"
            ]
          },
          "metadata": {},
          "execution_count": 27
        }
      ]
    },
    {
      "cell_type": "code",
      "source": [
        "#Create a vector\n",
        "vector = tf.constant([10,10])\n",
        "vector"
      ],
      "metadata": {
        "colab": {
          "base_uri": "https://localhost:8080/"
        },
        "id": "YJoDDeRPGfEj",
        "outputId": "a7be57bf-75c2-4bb6-acc7-f1b292aa9de8"
      },
      "execution_count": 28,
      "outputs": [
        {
          "output_type": "execute_result",
          "data": {
            "text/plain": [
              "<tf.Tensor: shape=(2,), dtype=int32, numpy=array([10, 10], dtype=int32)>"
            ]
          },
          "metadata": {},
          "execution_count": 28
        }
      ]
    },
    {
      "cell_type": "code",
      "source": [
        "#Check the dimension. of vector\n",
        "vector.ndim #Vector have one dimension you can see in output"
      ],
      "metadata": {
        "colab": {
          "base_uri": "https://localhost:8080/"
        },
        "id": "Cr7inHMRGe4v",
        "outputId": "47f1bd46-f81a-4518-b723-1f8bc8b18d8c"
      },
      "execution_count": 29,
      "outputs": [
        {
          "output_type": "execute_result",
          "data": {
            "text/plain": [
              "1"
            ]
          },
          "metadata": {},
          "execution_count": 29
        }
      ]
    },
    {
      "cell_type": "code",
      "source": [
        "#Create a matrix(has more than 1 dimesion)\n",
        "matrix = tf.constant([[10,7],[7,10]])\n",
        "matrix"
      ],
      "metadata": {
        "colab": {
          "base_uri": "https://localhost:8080/"
        },
        "id": "kae5RQneJM67",
        "outputId": "7f569941-2a94-425b-a1aa-a189b0a6d7b1"
      },
      "execution_count": 30,
      "outputs": [
        {
          "output_type": "execute_result",
          "data": {
            "text/plain": [
              "<tf.Tensor: shape=(2, 2), dtype=int32, numpy=\n",
              "array([[10,  7],\n",
              "       [ 7, 10]], dtype=int32)>"
            ]
          },
          "metadata": {},
          "execution_count": 30
        }
      ]
    },
    {
      "cell_type": "code",
      "source": [
        "matrix.ndim #Matrix have two dimension you can see in output"
      ],
      "metadata": {
        "colab": {
          "base_uri": "https://localhost:8080/"
        },
        "id": "-HunxzypJM3p",
        "outputId": "f3347d99-605a-4e47-852c-dca2e398e39c"
      },
      "execution_count": 31,
      "outputs": [
        {
          "output_type": "execute_result",
          "data": {
            "text/plain": [
              "2"
            ]
          },
          "metadata": {},
          "execution_count": 31
        }
      ]
    },
    {
      "cell_type": "code",
      "source": [
        "#Create another matrix\n",
        "another_matrix = tf.constant([[10.,7.],\n",
        "                              [3.,2.],\n",
        "                              [8.,9.]],dtype=tf.float16) #Specifiy the data type with dytpe parameter\n",
        "\n",
        "another_matrix"
      ],
      "metadata": {
        "colab": {
          "base_uri": "https://localhost:8080/"
        },
        "id": "qkXcjWQwJtwV",
        "outputId": "ae7e5c44-fec0-4a49-dc18-9d91a254d23a"
      },
      "execution_count": 32,
      "outputs": [
        {
          "output_type": "execute_result",
          "data": {
            "text/plain": [
              "<tf.Tensor: shape=(3, 2), dtype=float16, numpy=\n",
              "array([[10.,  7.],\n",
              "       [ 3.,  2.],\n",
              "       [ 8.,  9.]], dtype=float16)>"
            ]
          },
          "metadata": {},
          "execution_count": 32
        }
      ]
    },
    {
      "cell_type": "code",
      "source": [
        "#What is the number of dimension of another_matrix\n",
        "another_matrix.ndim"
      ],
      "metadata": {
        "id": "AF8NEguyJtZR",
        "colab": {
          "base_uri": "https://localhost:8080/"
        },
        "outputId": "387037d6-d780-4aca-c7af-65f187b79a07"
      },
      "execution_count": 33,
      "outputs": [
        {
          "output_type": "execute_result",
          "data": {
            "text/plain": [
              "2"
            ]
          },
          "metadata": {},
          "execution_count": 33
        }
      ]
    },
    {
      "cell_type": "code",
      "source": [
        "# Create a tensor\n",
        "tensor = tf.constant([[[1,2,3],\n",
        "                     [4,5,6]],\n",
        "                     [[7,8,9],\n",
        "                     [10,11,12]],\n",
        "                    [[13,14,15],\n",
        "                     [16,17,18]]])\n",
        "tensor"
      ],
      "metadata": {
        "colab": {
          "base_uri": "https://localhost:8080/"
        },
        "id": "xD7N3ZOoPzcH",
        "outputId": "2e8ce036-48ba-4c49-ec26-6c604eba8ba3"
      },
      "execution_count": 35,
      "outputs": [
        {
          "output_type": "execute_result",
          "data": {
            "text/plain": [
              "<tf.Tensor: shape=(3, 2, 3), dtype=int32, numpy=\n",
              "array([[[ 1,  2,  3],\n",
              "        [ 4,  5,  6]],\n",
              "\n",
              "       [[ 7,  8,  9],\n",
              "        [10, 11, 12]],\n",
              "\n",
              "       [[13, 14, 15],\n",
              "        [16, 17, 18]]], dtype=int32)>"
            ]
          },
          "metadata": {},
          "execution_count": 35
        }
      ]
    },
    {
      "cell_type": "code",
      "source": [
        "tensor.ndim"
      ],
      "metadata": {
        "colab": {
          "base_uri": "https://localhost:8080/"
        },
        "id": "eLnE9yogPzUt",
        "outputId": "93e27247-edf4-4e13-94b6-9ea8036bdf1d"
      },
      "execution_count": 36,
      "outputs": [
        {
          "output_type": "execute_result",
          "data": {
            "text/plain": [
              "3"
            ]
          },
          "metadata": {},
          "execution_count": 36
        }
      ]
    },
    {
      "cell_type": "markdown",
      "source": [
        "#What we have created so far\n",
        "-Scalar: a single number\n",
        "- Vector: a number with direction(e.g wind speed and direction)\n",
        "- Matrix: a 2-dimensional array of numbers\n",
        "- Tensor: an n-dimensional array of numbers(when n can be any number, a 0-dimensional tensor is a scalar, a 1-dimensional tensor is a vector)"
      ],
      "metadata": {
        "id": "3l5TjiHiV3Ur"
      }
    },
    {
      "cell_type": "markdown",
      "source": [
        "# Creating tensors with 'tf.Variable'\n"
      ],
      "metadata": {
        "id": "Kymr8l-uV3SE"
      }
    },
    {
      "cell_type": "code",
      "source": [
        "tf.Variable"
      ],
      "metadata": {
        "colab": {
          "base_uri": "https://localhost:8080/",
          "height": 187
        },
        "id": "n2nZG-ERV3Ph",
        "outputId": "51ceab35-89f4-4890-e547-71daac409be9"
      },
      "execution_count": 40,
      "outputs": [
        {
          "output_type": "execute_result",
          "data": {
            "text/plain": [
              "tensorflow.python.ops.variables.Variable"
            ],
            "text/html": [
              "<div style=\"max-width:800px; border: 1px solid var(--colab-border-color);\"><style>\n",
              "      pre.function-repr-contents {\n",
              "        overflow-x: auto;\n",
              "        padding: 8px 12px;\n",
              "        max-height: 500px;\n",
              "      }\n",
              "\n",
              "      pre.function-repr-contents.function-repr-contents-collapsed {\n",
              "        cursor: pointer;\n",
              "        max-height: 100px;\n",
              "      }\n",
              "    </style>\n",
              "    <pre style=\"white-space: initial; background:\n",
              "         var(--colab-secondary-surface-color); padding: 8px 12px;\n",
              "         border-bottom: 1px solid var(--colab-border-color);\"><b>tensorflow.python.ops.variables.Variable</b><br/>def error_handler(*args, **kwargs)</pre><pre class=\"function-repr-contents function-repr-contents-collapsed\" style=\"\"><a class=\"filepath\" style=\"display:none\" href=\"#\">/usr/local/lib/python3.11/dist-packages/tensorflow/python/ops/variables.py</a>See the [variable guide](https://tensorflow.org/guide/variable).\n",
              "\n",
              "A variable maintains shared, persistent state manipulated by a program.\n",
              "\n",
              "The `Variable()` constructor requires an initial value for the variable, which\n",
              "can be a `Tensor` of any type and shape. This initial value defines the type\n",
              "and shape of the variable. After construction, the type and shape of the\n",
              "variable are fixed. The value can be changed using one of the assign methods.\n",
              "\n",
              "&gt;&gt;&gt; v = tf.Variable(1.)\n",
              "&gt;&gt;&gt; v.assign(2.)\n",
              "&lt;tf.Variable ... shape=() dtype=float32, numpy=2.0&gt;\n",
              "&gt;&gt;&gt; v.assign_add(0.5)\n",
              "&lt;tf.Variable ... shape=() dtype=float32, numpy=2.5&gt;\n",
              "\n",
              "The `shape` argument to `Variable`&#x27;s constructor allows you to construct a\n",
              "variable with a less defined shape than its `initial_value`:\n",
              "\n",
              "&gt;&gt;&gt; v = tf.Variable(1., shape=tf.TensorShape(None))\n",
              "&gt;&gt;&gt; v.assign([[1.]])\n",
              "&lt;tf.Variable ... shape=&lt;unknown&gt; dtype=float32, numpy=array([[1.]], ...)&gt;\n",
              "\n",
              "Just like any `Tensor`, variables created with `Variable()` can be used as\n",
              "inputs to operations. Additionally, all the operators overloaded for the\n",
              "`Tensor` class are carried over to variables.\n",
              "\n",
              "&gt;&gt;&gt; w = tf.Variable([[1.], [2.]])\n",
              "&gt;&gt;&gt; x = tf.constant([[3., 4.]])\n",
              "&gt;&gt;&gt; tf.matmul(w, x)\n",
              "&lt;tf.Tensor:... shape=(2, 2), ... numpy=\n",
              "  array([[3., 4.],\n",
              "         [6., 8.]], dtype=float32)&gt;\n",
              "&gt;&gt;&gt; tf.sigmoid(w + x)\n",
              "&lt;tf.Tensor:... shape=(2, 2), ...&gt;\n",
              "\n",
              "When building a machine learning model it is often convenient to distinguish\n",
              "between variables holding trainable model parameters and other variables such\n",
              "as a `step` variable used to count training steps. To make this easier, the\n",
              "variable constructor supports a `trainable=&lt;bool&gt;`\n",
              "parameter. `tf.GradientTape` watches trainable variables by default:\n",
              "\n",
              "&gt;&gt;&gt; with tf.GradientTape(persistent=True) as tape:\n",
              "...   trainable = tf.Variable(1.)\n",
              "...   non_trainable = tf.Variable(2., trainable=False)\n",
              "...   x1 = trainable * 2.\n",
              "...   x2 = non_trainable * 3.\n",
              "&gt;&gt;&gt; tape.gradient(x1, trainable)\n",
              "&lt;tf.Tensor:... shape=(), dtype=float32, numpy=2.0&gt;\n",
              "&gt;&gt;&gt; assert tape.gradient(x2, non_trainable) is None  # Unwatched\n",
              "\n",
              "Variables are automatically tracked when assigned to attributes of types\n",
              "inheriting from `tf.Module`.\n",
              "\n",
              "&gt;&gt;&gt; m = tf.Module()\n",
              "&gt;&gt;&gt; m.v = tf.Variable([1.])\n",
              "&gt;&gt;&gt; m.trainable_variables\n",
              "(&lt;tf.Variable ... shape=(1,) ... numpy=array([1.], dtype=float32)&gt;,)\n",
              "\n",
              "This tracking then allows saving variable values to\n",
              "[training checkpoints](https://www.tensorflow.org/guide/checkpoint), or to\n",
              "[SavedModels](https://www.tensorflow.org/guide/saved_model) which include\n",
              "serialized TensorFlow graphs.\n",
              "\n",
              "Variables are often captured and manipulated by `tf.function`s. This works the\n",
              "same way the un-decorated function would have:\n",
              "\n",
              "&gt;&gt;&gt; v = tf.Variable(0.)\n",
              "&gt;&gt;&gt; read_and_decrement = tf.function(lambda: v.assign_sub(0.1))\n",
              "&gt;&gt;&gt; read_and_decrement()\n",
              "&lt;tf.Tensor: shape=(), dtype=float32, numpy=-0.1&gt;\n",
              "&gt;&gt;&gt; read_and_decrement()\n",
              "&lt;tf.Tensor: shape=(), dtype=float32, numpy=-0.2&gt;\n",
              "\n",
              "Variables created inside a `tf.function` must be owned outside the function\n",
              "and be created only once:\n",
              "\n",
              "&gt;&gt;&gt; class M(tf.Module):\n",
              "...   @tf.function\n",
              "...   def __call__(self, x):\n",
              "...     if not hasattr(self, &quot;v&quot;):  # Or set self.v to None in __init__\n",
              "...       self.v = tf.Variable(x)\n",
              "...     return self.v * x\n",
              "&gt;&gt;&gt; m = M()\n",
              "&gt;&gt;&gt; m(2.)\n",
              "&lt;tf.Tensor: shape=(), dtype=float32, numpy=4.0&gt;\n",
              "&gt;&gt;&gt; m(3.)\n",
              "&lt;tf.Tensor: shape=(), dtype=float32, numpy=6.0&gt;\n",
              "&gt;&gt;&gt; m.v\n",
              "&lt;tf.Variable ... shape=() dtype=float32, numpy=2.0&gt;\n",
              "\n",
              "See the `tf.function` documentation for details.</pre>\n",
              "      <script>\n",
              "      if (google.colab.kernel.accessAllowed && google.colab.files && google.colab.files.view) {\n",
              "        for (const element of document.querySelectorAll('.filepath')) {\n",
              "          element.style.display = 'block'\n",
              "          element.onclick = (event) => {\n",
              "            event.preventDefault();\n",
              "            event.stopPropagation();\n",
              "            google.colab.files.view(element.textContent, 204);\n",
              "          };\n",
              "        }\n",
              "      }\n",
              "      for (const element of document.querySelectorAll('.function-repr-contents')) {\n",
              "        element.onclick = (event) => {\n",
              "          event.preventDefault();\n",
              "          event.stopPropagation();\n",
              "          element.classList.toggle('function-repr-contents-collapsed');\n",
              "        };\n",
              "      }\n",
              "      </script>\n",
              "      </div>"
            ]
          },
          "metadata": {},
          "execution_count": 40
        }
      ]
    },
    {
      "cell_type": "code",
      "source": [
        "#Create the name tensor with tf.Variable() as above\n",
        "changeable_tensor = tf.Variable([10,7])\n",
        "unchangeable_tensor = tf.constant([10,7])\n",
        "changeable_tensor\n",
        "unchangeable_tensor"
      ],
      "metadata": {
        "colab": {
          "base_uri": "https://localhost:8080/"
        },
        "id": "K1EElzIhXYtb",
        "outputId": "24070653-b823-408f-b50b-ee57b0e8083a"
      },
      "execution_count": 41,
      "outputs": [
        {
          "output_type": "execute_result",
          "data": {
            "text/plain": [
              "<tf.Tensor: shape=(2,), dtype=int32, numpy=array([10,  7], dtype=int32)>"
            ]
          },
          "metadata": {},
          "execution_count": 41
        }
      ]
    },
    {
      "cell_type": "code",
      "source": [],
      "metadata": {
        "id": "rYQTZ9UhXYq5"
      },
      "execution_count": null,
      "outputs": []
    },
    {
      "cell_type": "code",
      "source": [],
      "metadata": {
        "id": "FV42A-09XYpS"
      },
      "execution_count": null,
      "outputs": []
    }
  ]
}