{
  "nbformat": 4,
  "nbformat_minor": 0,
  "metadata": {
    "colab": {
      "provenance": [],
      "authorship_tag": "ABX9TyMRld2s3zvSQcf5wN6pG5kE"
    },
    "kernelspec": {
      "name": "python3",
      "display_name": "Python 3"
    },
    "language_info": {
      "name": "python"
    }
  },
  "cells": [
    {
      "cell_type": "code",
      "execution_count": 48,
      "metadata": {
        "id": "jLvV0fWK3E7K"
      },
      "outputs": [],
      "source": [
        "# This is notebook cover some of the fundamentals of TensorFlow"
      ]
    },
    {
      "cell_type": "markdown",
      "source": [
        "#INtroduction to Tensors"
      ],
      "metadata": {
        "id": "aJrqwoPxF0Ic"
      }
    },
    {
      "cell_type": "code",
      "source": [
        "#Import Tensorflow\n",
        "import tensorflow as tf\n",
        "print(tf.__version__ )"
      ],
      "metadata": {
        "colab": {
          "base_uri": "https://localhost:8080/"
        },
        "id": "r2yELMQSFzwV",
        "outputId": "2a30ae8c-2dd3-4f17-bc3f-57393a964c3d"
      },
      "execution_count": 49,
      "outputs": [
        {
          "output_type": "stream",
          "name": "stdout",
          "text": [
            "2.18.0\n"
          ]
        }
      ]
    },
    {
      "cell_type": "code",
      "source": [
        "# Create tensors with tf.constant()\n",
        "scalar = tf.constant(7)\n",
        "scalar"
      ],
      "metadata": {
        "colab": {
          "base_uri": "https://localhost:8080/"
        },
        "id": "Fjjx6-_pHb4K",
        "outputId": "8240120d-ae3a-435b-ce9b-bcb7a549ddf3"
      },
      "execution_count": 50,
      "outputs": [
        {
          "output_type": "execute_result",
          "data": {
            "text/plain": [
              "<tf.Tensor: shape=(), dtype=int32, numpy=7>"
            ]
          },
          "metadata": {},
          "execution_count": 50
        }
      ]
    },
    {
      "cell_type": "code",
      "source": [
        "#Check the number of dimensions of a tensor(ndim stands for number for dimensions)\n",
        "scalar.ndim #Scalar have no dimension you can see in output"
      ],
      "metadata": {
        "colab": {
          "base_uri": "https://localhost:8080/"
        },
        "id": "xT_VtO3MGfSb",
        "outputId": "6caede9b-60c1-4572-e797-91eb2babf269"
      },
      "execution_count": 51,
      "outputs": [
        {
          "output_type": "execute_result",
          "data": {
            "text/plain": [
              "0"
            ]
          },
          "metadata": {},
          "execution_count": 51
        }
      ]
    },
    {
      "cell_type": "code",
      "source": [
        "#Create a vector\n",
        "vector = tf.constant([10,10])\n",
        "vector"
      ],
      "metadata": {
        "colab": {
          "base_uri": "https://localhost:8080/"
        },
        "id": "YJoDDeRPGfEj",
        "outputId": "b0445b47-d1fb-4fe1-e60e-3a3c1456020c"
      },
      "execution_count": 52,
      "outputs": [
        {
          "output_type": "execute_result",
          "data": {
            "text/plain": [
              "<tf.Tensor: shape=(2,), dtype=int32, numpy=array([10, 10], dtype=int32)>"
            ]
          },
          "metadata": {},
          "execution_count": 52
        }
      ]
    },
    {
      "cell_type": "code",
      "source": [
        "#Check the dimension. of vector\n",
        "vector.ndim #Vector have one dimension you can see in output"
      ],
      "metadata": {
        "colab": {
          "base_uri": "https://localhost:8080/"
        },
        "id": "Cr7inHMRGe4v",
        "outputId": "b61dfe3f-1674-47ac-db93-2c4884994f06"
      },
      "execution_count": 53,
      "outputs": [
        {
          "output_type": "execute_result",
          "data": {
            "text/plain": [
              "1"
            ]
          },
          "metadata": {},
          "execution_count": 53
        }
      ]
    },
    {
      "cell_type": "code",
      "source": [
        "#Create a matrix(has more than 1 dimesion)\n",
        "matrix = tf.constant([[10,7],[7,10]])\n",
        "matrix"
      ],
      "metadata": {
        "colab": {
          "base_uri": "https://localhost:8080/"
        },
        "id": "kae5RQneJM67",
        "outputId": "532a1c67-3938-4c85-fa31-19c2908f1020"
      },
      "execution_count": 54,
      "outputs": [
        {
          "output_type": "execute_result",
          "data": {
            "text/plain": [
              "<tf.Tensor: shape=(2, 2), dtype=int32, numpy=\n",
              "array([[10,  7],\n",
              "       [ 7, 10]], dtype=int32)>"
            ]
          },
          "metadata": {},
          "execution_count": 54
        }
      ]
    },
    {
      "cell_type": "code",
      "source": [
        "matrix.ndim #Matrix have two dimension you can see in output"
      ],
      "metadata": {
        "colab": {
          "base_uri": "https://localhost:8080/"
        },
        "id": "-HunxzypJM3p",
        "outputId": "3937cd46-c912-41fe-b112-8608c17d61d9"
      },
      "execution_count": 55,
      "outputs": [
        {
          "output_type": "execute_result",
          "data": {
            "text/plain": [
              "2"
            ]
          },
          "metadata": {},
          "execution_count": 55
        }
      ]
    },
    {
      "cell_type": "code",
      "source": [
        "#Create another matrix\n",
        "another_matrix = tf.constant([[10.,7.],\n",
        "                              [3.,2.],\n",
        "                              [8.,9.]],dtype=tf.float16) #Specifiy the data type with dytpe parameter\n",
        "\n",
        "another_matrix"
      ],
      "metadata": {
        "colab": {
          "base_uri": "https://localhost:8080/"
        },
        "id": "qkXcjWQwJtwV",
        "outputId": "38aee237-fbf0-4166-f05c-c232eb04f964"
      },
      "execution_count": 56,
      "outputs": [
        {
          "output_type": "execute_result",
          "data": {
            "text/plain": [
              "<tf.Tensor: shape=(3, 2), dtype=float16, numpy=\n",
              "array([[10.,  7.],\n",
              "       [ 3.,  2.],\n",
              "       [ 8.,  9.]], dtype=float16)>"
            ]
          },
          "metadata": {},
          "execution_count": 56
        }
      ]
    },
    {
      "cell_type": "code",
      "source": [
        "#What is the number of dimension of another_matrix\n",
        "another_matrix.ndim"
      ],
      "metadata": {
        "id": "AF8NEguyJtZR",
        "colab": {
          "base_uri": "https://localhost:8080/"
        },
        "outputId": "b90d8c6b-18e9-4d31-efb4-b372bbeca864"
      },
      "execution_count": 57,
      "outputs": [
        {
          "output_type": "execute_result",
          "data": {
            "text/plain": [
              "2"
            ]
          },
          "metadata": {},
          "execution_count": 57
        }
      ]
    },
    {
      "cell_type": "code",
      "source": [
        "# Create a tensor\n",
        "tensor = tf.constant([[[1,2,3],\n",
        "                     [4,5,6]],\n",
        "                     [[7,8,9],\n",
        "                     [10,11,12]],\n",
        "                    [[13,14,15],\n",
        "                     [16,17,18]]])\n",
        "tensor"
      ],
      "metadata": {
        "colab": {
          "base_uri": "https://localhost:8080/"
        },
        "id": "xD7N3ZOoPzcH",
        "outputId": "4d5cbd9f-2316-4869-b304-f9a3456e90c0"
      },
      "execution_count": 58,
      "outputs": [
        {
          "output_type": "execute_result",
          "data": {
            "text/plain": [
              "<tf.Tensor: shape=(3, 2, 3), dtype=int32, numpy=\n",
              "array([[[ 1,  2,  3],\n",
              "        [ 4,  5,  6]],\n",
              "\n",
              "       [[ 7,  8,  9],\n",
              "        [10, 11, 12]],\n",
              "\n",
              "       [[13, 14, 15],\n",
              "        [16, 17, 18]]], dtype=int32)>"
            ]
          },
          "metadata": {},
          "execution_count": 58
        }
      ]
    },
    {
      "cell_type": "code",
      "source": [
        "tensor.ndim"
      ],
      "metadata": {
        "colab": {
          "base_uri": "https://localhost:8080/"
        },
        "id": "eLnE9yogPzUt",
        "outputId": "7c15d441-2b47-4a67-cb3a-eab188ccbc2a"
      },
      "execution_count": 59,
      "outputs": [
        {
          "output_type": "execute_result",
          "data": {
            "text/plain": [
              "3"
            ]
          },
          "metadata": {},
          "execution_count": 59
        }
      ]
    },
    {
      "cell_type": "markdown",
      "source": [
        "#What we have created so far\n",
        "-Scalar: a single number\n",
        "- Vector: a number with direction(e.g wind speed and direction)\n",
        "- Matrix: a 2-dimensional array of numbers\n",
        "- Tensor: an n-dimensional array of numbers(when n can be any number, a 0-dimensional tensor is a scalar, a 1-dimensional tensor is a vector)"
      ],
      "metadata": {
        "id": "3l5TjiHiV3Ur"
      }
    },
    {
      "cell_type": "markdown",
      "source": [
        "# Creating tensors with 'tf.Variable'\n"
      ],
      "metadata": {
        "id": "Kymr8l-uV3SE"
      }
    },
    {
      "cell_type": "code",
      "source": [
        "tf.Variable"
      ],
      "metadata": {
        "colab": {
          "base_uri": "https://localhost:8080/",
          "height": 187
        },
        "id": "n2nZG-ERV3Ph",
        "outputId": "01265261-9b50-402c-9e37-9050fa7125fa"
      },
      "execution_count": 60,
      "outputs": [
        {
          "output_type": "execute_result",
          "data": {
            "text/plain": [
              "tensorflow.python.ops.variables.Variable"
            ],
            "text/html": [
              "<div style=\"max-width:800px; border: 1px solid var(--colab-border-color);\"><style>\n",
              "      pre.function-repr-contents {\n",
              "        overflow-x: auto;\n",
              "        padding: 8px 12px;\n",
              "        max-height: 500px;\n",
              "      }\n",
              "\n",
              "      pre.function-repr-contents.function-repr-contents-collapsed {\n",
              "        cursor: pointer;\n",
              "        max-height: 100px;\n",
              "      }\n",
              "    </style>\n",
              "    <pre style=\"white-space: initial; background:\n",
              "         var(--colab-secondary-surface-color); padding: 8px 12px;\n",
              "         border-bottom: 1px solid var(--colab-border-color);\"><b>tensorflow.python.ops.variables.Variable</b><br/>def error_handler(*args, **kwargs)</pre><pre class=\"function-repr-contents function-repr-contents-collapsed\" style=\"\"><a class=\"filepath\" style=\"display:none\" href=\"#\">/usr/local/lib/python3.11/dist-packages/tensorflow/python/ops/variables.py</a>See the [variable guide](https://tensorflow.org/guide/variable).\n",
              "\n",
              "A variable maintains shared, persistent state manipulated by a program.\n",
              "\n",
              "The `Variable()` constructor requires an initial value for the variable, which\n",
              "can be a `Tensor` of any type and shape. This initial value defines the type\n",
              "and shape of the variable. After construction, the type and shape of the\n",
              "variable are fixed. The value can be changed using one of the assign methods.\n",
              "\n",
              "&gt;&gt;&gt; v = tf.Variable(1.)\n",
              "&gt;&gt;&gt; v.assign(2.)\n",
              "&lt;tf.Variable ... shape=() dtype=float32, numpy=2.0&gt;\n",
              "&gt;&gt;&gt; v.assign_add(0.5)\n",
              "&lt;tf.Variable ... shape=() dtype=float32, numpy=2.5&gt;\n",
              "\n",
              "The `shape` argument to `Variable`&#x27;s constructor allows you to construct a\n",
              "variable with a less defined shape than its `initial_value`:\n",
              "\n",
              "&gt;&gt;&gt; v = tf.Variable(1., shape=tf.TensorShape(None))\n",
              "&gt;&gt;&gt; v.assign([[1.]])\n",
              "&lt;tf.Variable ... shape=&lt;unknown&gt; dtype=float32, numpy=array([[1.]], ...)&gt;\n",
              "\n",
              "Just like any `Tensor`, variables created with `Variable()` can be used as\n",
              "inputs to operations. Additionally, all the operators overloaded for the\n",
              "`Tensor` class are carried over to variables.\n",
              "\n",
              "&gt;&gt;&gt; w = tf.Variable([[1.], [2.]])\n",
              "&gt;&gt;&gt; x = tf.constant([[3., 4.]])\n",
              "&gt;&gt;&gt; tf.matmul(w, x)\n",
              "&lt;tf.Tensor:... shape=(2, 2), ... numpy=\n",
              "  array([[3., 4.],\n",
              "         [6., 8.]], dtype=float32)&gt;\n",
              "&gt;&gt;&gt; tf.sigmoid(w + x)\n",
              "&lt;tf.Tensor:... shape=(2, 2), ...&gt;\n",
              "\n",
              "When building a machine learning model it is often convenient to distinguish\n",
              "between variables holding trainable model parameters and other variables such\n",
              "as a `step` variable used to count training steps. To make this easier, the\n",
              "variable constructor supports a `trainable=&lt;bool&gt;`\n",
              "parameter. `tf.GradientTape` watches trainable variables by default:\n",
              "\n",
              "&gt;&gt;&gt; with tf.GradientTape(persistent=True) as tape:\n",
              "...   trainable = tf.Variable(1.)\n",
              "...   non_trainable = tf.Variable(2., trainable=False)\n",
              "...   x1 = trainable * 2.\n",
              "...   x2 = non_trainable * 3.\n",
              "&gt;&gt;&gt; tape.gradient(x1, trainable)\n",
              "&lt;tf.Tensor:... shape=(), dtype=float32, numpy=2.0&gt;\n",
              "&gt;&gt;&gt; assert tape.gradient(x2, non_trainable) is None  # Unwatched\n",
              "\n",
              "Variables are automatically tracked when assigned to attributes of types\n",
              "inheriting from `tf.Module`.\n",
              "\n",
              "&gt;&gt;&gt; m = tf.Module()\n",
              "&gt;&gt;&gt; m.v = tf.Variable([1.])\n",
              "&gt;&gt;&gt; m.trainable_variables\n",
              "(&lt;tf.Variable ... shape=(1,) ... numpy=array([1.], dtype=float32)&gt;,)\n",
              "\n",
              "This tracking then allows saving variable values to\n",
              "[training checkpoints](https://www.tensorflow.org/guide/checkpoint), or to\n",
              "[SavedModels](https://www.tensorflow.org/guide/saved_model) which include\n",
              "serialized TensorFlow graphs.\n",
              "\n",
              "Variables are often captured and manipulated by `tf.function`s. This works the\n",
              "same way the un-decorated function would have:\n",
              "\n",
              "&gt;&gt;&gt; v = tf.Variable(0.)\n",
              "&gt;&gt;&gt; read_and_decrement = tf.function(lambda: v.assign_sub(0.1))\n",
              "&gt;&gt;&gt; read_and_decrement()\n",
              "&lt;tf.Tensor: shape=(), dtype=float32, numpy=-0.1&gt;\n",
              "&gt;&gt;&gt; read_and_decrement()\n",
              "&lt;tf.Tensor: shape=(), dtype=float32, numpy=-0.2&gt;\n",
              "\n",
              "Variables created inside a `tf.function` must be owned outside the function\n",
              "and be created only once:\n",
              "\n",
              "&gt;&gt;&gt; class M(tf.Module):\n",
              "...   @tf.function\n",
              "...   def __call__(self, x):\n",
              "...     if not hasattr(self, &quot;v&quot;):  # Or set self.v to None in __init__\n",
              "...       self.v = tf.Variable(x)\n",
              "...     return self.v * x\n",
              "&gt;&gt;&gt; m = M()\n",
              "&gt;&gt;&gt; m(2.)\n",
              "&lt;tf.Tensor: shape=(), dtype=float32, numpy=4.0&gt;\n",
              "&gt;&gt;&gt; m(3.)\n",
              "&lt;tf.Tensor: shape=(), dtype=float32, numpy=6.0&gt;\n",
              "&gt;&gt;&gt; m.v\n",
              "&lt;tf.Variable ... shape=() dtype=float32, numpy=2.0&gt;\n",
              "\n",
              "See the `tf.function` documentation for details.</pre>\n",
              "      <script>\n",
              "      if (google.colab.kernel.accessAllowed && google.colab.files && google.colab.files.view) {\n",
              "        for (const element of document.querySelectorAll('.filepath')) {\n",
              "          element.style.display = 'block'\n",
              "          element.onclick = (event) => {\n",
              "            event.preventDefault();\n",
              "            event.stopPropagation();\n",
              "            google.colab.files.view(element.textContent, 204);\n",
              "          };\n",
              "        }\n",
              "      }\n",
              "      for (const element of document.querySelectorAll('.function-repr-contents')) {\n",
              "        element.onclick = (event) => {\n",
              "          event.preventDefault();\n",
              "          event.stopPropagation();\n",
              "          element.classList.toggle('function-repr-contents-collapsed');\n",
              "        };\n",
              "      }\n",
              "      </script>\n",
              "      </div>"
            ]
          },
          "metadata": {},
          "execution_count": 60
        }
      ]
    },
    {
      "cell_type": "code",
      "source": [
        "#Create the name tensor with tf.Variable() as above\n",
        "changeable_tensor = tf.Variable([10,7])\n",
        "unchangeable_tensor = tf.constant([10,7])\n",
        "changeable_tensor, unchangeable_tensor"
      ],
      "metadata": {
        "colab": {
          "base_uri": "https://localhost:8080/"
        },
        "id": "K1EElzIhXYtb",
        "outputId": "1b73f1ef-3c3a-49da-d71a-d53482a01bae"
      },
      "execution_count": 61,
      "outputs": [
        {
          "output_type": "execute_result",
          "data": {
            "text/plain": [
              "(<tf.Variable 'Variable:0' shape=(2,) dtype=int32, numpy=array([10,  7], dtype=int32)>,\n",
              " <tf.Tensor: shape=(2,), dtype=int32, numpy=array([10,  7], dtype=int32)>)"
            ]
          },
          "metadata": {},
          "execution_count": 61
        }
      ]
    },
    {
      "cell_type": "code",
      "source": [
        "# lets try change one of the elemets in our changeable tensor\n",
        "changeable_tensor[0] = 7\n",
        "changeable_tensor\n"
      ],
      "metadata": {
        "colab": {
          "base_uri": "https://localhost:8080/",
          "height": 211
        },
        "id": "rYQTZ9UhXYq5",
        "outputId": "e42b9e7d-af19-44d8-ca86-8176ae5b4a29"
      },
      "execution_count": 62,
      "outputs": [
        {
          "output_type": "error",
          "ename": "TypeError",
          "evalue": "'ResourceVariable' object does not support item assignment",
          "traceback": [
            "\u001b[0;31m---------------------------------------------------------------------------\u001b[0m",
            "\u001b[0;31mTypeError\u001b[0m                                 Traceback (most recent call last)",
            "\u001b[0;32m/tmp/ipython-input-62-175132096.py\u001b[0m in \u001b[0;36m<cell line: 0>\u001b[0;34m()\u001b[0m\n\u001b[1;32m      1\u001b[0m \u001b[0;31m# lets try change one of the elemets in our changeable tensor\u001b[0m\u001b[0;34m\u001b[0m\u001b[0;34m\u001b[0m\u001b[0m\n\u001b[0;32m----> 2\u001b[0;31m \u001b[0mchangeable_tensor\u001b[0m\u001b[0;34m[\u001b[0m\u001b[0;36m0\u001b[0m\u001b[0;34m]\u001b[0m \u001b[0;34m=\u001b[0m \u001b[0;36m7\u001b[0m\u001b[0;34m\u001b[0m\u001b[0;34m\u001b[0m\u001b[0m\n\u001b[0m\u001b[1;32m      3\u001b[0m \u001b[0mchangeable_tensor\u001b[0m\u001b[0;34m\u001b[0m\u001b[0;34m\u001b[0m\u001b[0m\n",
            "\u001b[0;31mTypeError\u001b[0m: 'ResourceVariable' object does not support item assignment"
          ]
        }
      ]
    },
    {
      "cell_type": "code",
      "source": [
        "# How about we try .assign()\n",
        "changeable_tensor[0].assign(7)\n",
        "changeable_tensor"
      ],
      "metadata": {
        "colab": {
          "base_uri": "https://localhost:8080/"
        },
        "id": "FV42A-09XYpS",
        "outputId": "9985aec4-6890-47d5-dfc4-62fc4aaf59dc"
      },
      "execution_count": 47,
      "outputs": [
        {
          "output_type": "execute_result",
          "data": {
            "text/plain": [
              "<tf.Variable 'Variable:0' shape=(2,) dtype=int32, numpy=array([7, 7], dtype=int32)>"
            ]
          },
          "metadata": {},
          "execution_count": 47
        }
      ]
    },
    {
      "cell_type": "code",
      "source": [
        "# Let's try to change our unchangle tensor\n",
        "unchangeable_tensor[0].assign(7)\n",
        "unchangeable_tensor"
      ],
      "metadata": {
        "id": "qkRWj9Xwb91x"
      },
      "execution_count": null,
      "outputs": []
    },
    {
      "cell_type": "markdown",
      "source": [
        "Note: Rarelt in pratice will need to decide whether to use tf.constant or tf.Variable to create tensor,\n",
        "as TensorFlow does this for you. However, if in doubt, use tf.constant and change it later if needed"
      ],
      "metadata": {
        "id": "kwC4G1FTeVY4"
      }
    },
    {
      "cell_type": "markdown",
      "source": [
        "# Creating randim tensor\n",
        "Random tensors are tensors of some abitary"
      ],
      "metadata": {
        "id": "_2pNLlM7b9x0"
      }
    },
    {
      "cell_type": "code",
      "source": [
        "#Create two random (same)tensor"
      ],
      "metadata": {
        "id": "VhxNLEeVck4a"
      },
      "execution_count": 31,
      "outputs": []
    },
    {
      "cell_type": "code",
      "source": [
        "random_1 = tf.random.Generator.from_seed(42)#set seed for reproducibility\n",
        "random_1 = random_1.normal(shape=(3,2))\n",
        "random_2 = tf.random.Generator.from_seed(42)\n",
        "random_2 = random_2.normal(shape=(3,2))\n",
        "\n",
        "#Are they equal?\n",
        "random_1, random_2, random_1 == random_2\n"
      ],
      "metadata": {
        "colab": {
          "base_uri": "https://localhost:8080/"
        },
        "id": "1_53dE68iAEO",
        "outputId": "b6a0bfe5-3a27-4d2a-9a03-b6828e81e9bc"
      },
      "execution_count": 63,
      "outputs": [
        {
          "output_type": "execute_result",
          "data": {
            "text/plain": [
              "(<tf.Tensor: shape=(3, 2), dtype=float32, numpy=\n",
              " array([[-0.7565803 , -0.06854702],\n",
              "        [ 0.07595026, -1.2573844 ],\n",
              "        [-0.23193763, -1.8107855 ]], dtype=float32)>,\n",
              " <tf.Tensor: shape=(3, 2), dtype=float32, numpy=\n",
              " array([[-0.7565803 , -0.06854702],\n",
              "        [ 0.07595026, -1.2573844 ],\n",
              "        [-0.23193763, -1.8107855 ]], dtype=float32)>,\n",
              " <tf.Tensor: shape=(3, 2), dtype=bool, numpy=\n",
              " array([[ True,  True],\n",
              "        [ True,  True],\n",
              "        [ True,  True]])>)"
            ]
          },
          "metadata": {},
          "execution_count": 63
        }
      ]
    },
    {
      "cell_type": "markdown",
      "source": [
        "#Shuffle the order of elements in a tensor"
      ],
      "metadata": {
        "id": "LNB8qkoDck10"
      }
    },
    {
      "cell_type": "code",
      "source": [
        "# Shuffle a tensor(valuable for when to shuffle your data so the inherent order doesn't effect learning)\n",
        "not_shuffled = tf.constant([[10,7],\n",
        "                            [3,4],\n",
        "                            [2,5]])\n",
        "\n",
        "#Shuffle our non-shuffled tensor\n",
        "tf.random.shuffle(not_shuffled)"
      ],
      "metadata": {
        "colab": {
          "base_uri": "https://localhost:8080/"
        },
        "id": "Wmq6huNlri6h",
        "outputId": "c49f7bb5-f1e0-4d67-96a0-33033e2a1208"
      },
      "execution_count": 64,
      "outputs": [
        {
          "output_type": "execute_result",
          "data": {
            "text/plain": [
              "<tf.Tensor: shape=(3, 2), dtype=int32, numpy=\n",
              "array([[ 3,  4],\n",
              "       [ 2,  5],\n",
              "       [10,  7]], dtype=int32)>"
            ]
          },
          "metadata": {},
          "execution_count": 64
        }
      ]
    },
    {
      "cell_type": "code",
      "source": [
        "#Shuffle our non-shuffled tensor\n",
        "tf.random.set_seed(42) # This a global level seed(42)\n",
        "tf.random.shuffle(not_shuffled, seed=42) # and here this is operational level seed(42)"
      ],
      "metadata": {
        "id": "9MAwzJRVzDnO",
        "colab": {
          "base_uri": "https://localhost:8080/"
        },
        "outputId": "9a988dec-dd60-4937-d62a-66f405d290dd"
      },
      "execution_count": 65,
      "outputs": [
        {
          "output_type": "execute_result",
          "data": {
            "text/plain": [
              "<tf.Tensor: shape=(3, 2), dtype=int32, numpy=\n",
              "array([[10,  7],\n",
              "       [ 3,  4],\n",
              "       [ 2,  5]], dtype=int32)>"
            ]
          },
          "metadata": {},
          "execution_count": 65
        }
      ]
    },
    {
      "cell_type": "code",
      "source": [
        "not_shuffled\n"
      ],
      "metadata": {
        "colab": {
          "base_uri": "https://localhost:8080/"
        },
        "id": "hsAHZE0pri1h",
        "outputId": "b64ea109-cac2-4222-9f2d-16abfd9234c5"
      },
      "execution_count": 66,
      "outputs": [
        {
          "output_type": "execute_result",
          "data": {
            "text/plain": [
              "<tf.Tensor: shape=(3, 2), dtype=int32, numpy=\n",
              "array([[10,  7],\n",
              "       [ 3,  4],\n",
              "       [ 2,  5]], dtype=int32)>"
            ]
          },
          "metadata": {},
          "execution_count": 66
        }
      ]
    },
    {
      "cell_type": "code",
      "source": [
        "tf.random.shuffle(not_shuffled, seed=42)"
      ],
      "metadata": {
        "colab": {
          "base_uri": "https://localhost:8080/"
        },
        "id": "Wwg1mZBQriye",
        "outputId": "ab8cbd7c-5dcf-4c1c-f081-dc493def3577"
      },
      "execution_count": 67,
      "outputs": [
        {
          "output_type": "execute_result",
          "data": {
            "text/plain": [
              "<tf.Tensor: shape=(3, 2), dtype=int32, numpy=\n",
              "array([[ 2,  5],\n",
              "       [10,  7],\n",
              "       [ 3,  4]], dtype=int32)>"
            ]
          },
          "metadata": {},
          "execution_count": 67
        }
      ]
    },
    {
      "cell_type": "markdown",
      "source": [
        "#Other ways to make tensors"
      ],
      "metadata": {
        "id": "9Y7t0eeX3TAJ"
      }
    },
    {
      "cell_type": "code",
      "source": [
        "#Create a tensor of all ones\n",
        "tf.ones([10,7])"
      ],
      "metadata": {
        "colab": {
          "base_uri": "https://localhost:8080/"
        },
        "id": "4gKTfvFU4i6H",
        "outputId": "fa5dfedb-ec4e-4d03-a3d1-54e129b2a548"
      },
      "execution_count": 68,
      "outputs": [
        {
          "output_type": "execute_result",
          "data": {
            "text/plain": [
              "<tf.Tensor: shape=(10, 7), dtype=float32, numpy=\n",
              "array([[1., 1., 1., 1., 1., 1., 1.],\n",
              "       [1., 1., 1., 1., 1., 1., 1.],\n",
              "       [1., 1., 1., 1., 1., 1., 1.],\n",
              "       [1., 1., 1., 1., 1., 1., 1.],\n",
              "       [1., 1., 1., 1., 1., 1., 1.],\n",
              "       [1., 1., 1., 1., 1., 1., 1.],\n",
              "       [1., 1., 1., 1., 1., 1., 1.],\n",
              "       [1., 1., 1., 1., 1., 1., 1.],\n",
              "       [1., 1., 1., 1., 1., 1., 1.],\n",
              "       [1., 1., 1., 1., 1., 1., 1.]], dtype=float32)>"
            ]
          },
          "metadata": {},
          "execution_count": 68
        }
      ]
    },
    {
      "cell_type": "code",
      "source": [
        "#Create a tensor of all zeros\n",
        "tf.zeros(shape=(3,4))"
      ],
      "metadata": {
        "id": "VwMLfO264i3k",
        "colab": {
          "base_uri": "https://localhost:8080/"
        },
        "outputId": "d55c81d5-a7f7-4c56-dbdc-c6d49a317d5c"
      },
      "execution_count": 69,
      "outputs": [
        {
          "output_type": "execute_result",
          "data": {
            "text/plain": [
              "<tf.Tensor: shape=(3, 4), dtype=float32, numpy=\n",
              "array([[0., 0., 0., 0.],\n",
              "       [0., 0., 0., 0.],\n",
              "       [0., 0., 0., 0.]], dtype=float32)>"
            ]
          },
          "metadata": {},
          "execution_count": 69
        }
      ]
    },
    {
      "cell_type": "markdown",
      "source": [
        "## Turn NumPy arrays into tensors\n",
        " The main difference between NumPy arrays and TensorFlow tensors is that tensors can be\n",
        " run on a GPU(much faster for numerical computing)"
      ],
      "metadata": {
        "id": "i37j8G1t8HS2"
      }
    },
    {
      "cell_type": "code",
      "source": [
        "## You can also turn NumPy arrays\n",
        "import numpy as np\n",
        "numpy_A = np.arange(1, 25, dtype=np.int32) #Create a NumPy array between 1 and 25\n",
        "numpy_A\n",
        "\n",
        "#X = tf.coonstant(some_matrix) #Capital for matrix or tensor\n",
        "#y = tf.constant(vector) # non-capital for vector"
      ],
      "metadata": {
        "colab": {
          "base_uri": "https://localhost:8080/"
        },
        "id": "FN0hB4Yd7j4q",
        "outputId": "6fc673c1-38f3-481d-806e-a2aa0e8501b5"
      },
      "execution_count": 70,
      "outputs": [
        {
          "output_type": "execute_result",
          "data": {
            "text/plain": [
              "array([ 1,  2,  3,  4,  5,  6,  7,  8,  9, 10, 11, 12, 13, 14, 15, 16, 17,\n",
              "       18, 19, 20, 21, 22, 23, 24], dtype=int32)"
            ]
          },
          "metadata": {},
          "execution_count": 70
        }
      ]
    },
    {
      "cell_type": "markdown",
      "source": [],
      "metadata": {
        "id": "VeTEU6X1-Pm1"
      }
    },
    {
      "cell_type": "code",
      "source": [
        "A = tf.constant(numpy_A, shape=(2,3,4))\n",
        "B = tf.constant(numpy_A)\n",
        "A, B"
      ],
      "metadata": {
        "colab": {
          "base_uri": "https://localhost:8080/"
        },
        "id": "HO3gKmaJ7j2h",
        "outputId": "0075524f-1e09-42f7-ea53-c74ff3b8d5e9"
      },
      "execution_count": 71,
      "outputs": [
        {
          "output_type": "execute_result",
          "data": {
            "text/plain": [
              "(<tf.Tensor: shape=(2, 3, 4), dtype=int32, numpy=\n",
              " array([[[ 1,  2,  3,  4],\n",
              "         [ 5,  6,  7,  8],\n",
              "         [ 9, 10, 11, 12]],\n",
              " \n",
              "        [[13, 14, 15, 16],\n",
              "         [17, 18, 19, 20],\n",
              "         [21, 22, 23, 24]]], dtype=int32)>,\n",
              " <tf.Tensor: shape=(24,), dtype=int32, numpy=\n",
              " array([ 1,  2,  3,  4,  5,  6,  7,  8,  9, 10, 11, 12, 13, 14, 15, 16, 17,\n",
              "        18, 19, 20, 21, 22, 23, 24], dtype=int32)>)"
            ]
          },
          "metadata": {},
          "execution_count": 71
        }
      ]
    },
    {
      "cell_type": "code",
      "source": [
        "2 * 3 * 4"
      ],
      "metadata": {
        "colab": {
          "base_uri": "https://localhost:8080/"
        },
        "id": "84E3g2p97jwl",
        "outputId": "7b08f0a3-a038-4f24-c6d7-e86a58b00433"
      },
      "execution_count": 72,
      "outputs": [
        {
          "output_type": "execute_result",
          "data": {
            "text/plain": [
              "24"
            ]
          },
          "metadata": {},
          "execution_count": 72
        }
      ]
    },
    {
      "cell_type": "code",
      "source": [
        "A.ndim"
      ],
      "metadata": {
        "colab": {
          "base_uri": "https://localhost:8080/"
        },
        "id": "qNOQL8dLnrFq",
        "outputId": "a7f0979f-e783-43a5-bd9f-09bf92f07992"
      },
      "execution_count": 73,
      "outputs": [
        {
          "output_type": "execute_result",
          "data": {
            "text/plain": [
              "3"
            ]
          },
          "metadata": {},
          "execution_count": 73
        }
      ]
    },
    {
      "cell_type": "markdown",
      "source": [
        "## Getting information form tensor"
      ],
      "metadata": {
        "id": "SaIZZ8uBEKx4"
      }
    },
    {
      "cell_type": "markdown",
      "source": [
        "When dealing with tensors you probably want to be aware of the following attributes:\n",
        "- Shape\n",
        "- Rank\n",
        "- Axis or dimension\n",
        "- Size\n"
      ],
      "metadata": {
        "id": "iBv9ZPh_BVSX"
      }
    },
    {
      "cell_type": "code",
      "source": [
        "# Create a rank of 4 tensor(4 dimensions)\n",
        "rank_4_tensor = tf.zeros(shape=[2,3,4,5])\n",
        "rank_4_tensor"
      ],
      "metadata": {
        "colab": {
          "base_uri": "https://localhost:8080/"
        },
        "id": "ye20JoTaBVN8",
        "outputId": "c239eacf-b874-44e0-cfdf-17900e15c9df"
      },
      "execution_count": 74,
      "outputs": [
        {
          "output_type": "execute_result",
          "data": {
            "text/plain": [
              "<tf.Tensor: shape=(2, 3, 4, 5), dtype=float32, numpy=\n",
              "array([[[[0., 0., 0., 0., 0.],\n",
              "         [0., 0., 0., 0., 0.],\n",
              "         [0., 0., 0., 0., 0.],\n",
              "         [0., 0., 0., 0., 0.]],\n",
              "\n",
              "        [[0., 0., 0., 0., 0.],\n",
              "         [0., 0., 0., 0., 0.],\n",
              "         [0., 0., 0., 0., 0.],\n",
              "         [0., 0., 0., 0., 0.]],\n",
              "\n",
              "        [[0., 0., 0., 0., 0.],\n",
              "         [0., 0., 0., 0., 0.],\n",
              "         [0., 0., 0., 0., 0.],\n",
              "         [0., 0., 0., 0., 0.]]],\n",
              "\n",
              "\n",
              "       [[[0., 0., 0., 0., 0.],\n",
              "         [0., 0., 0., 0., 0.],\n",
              "         [0., 0., 0., 0., 0.],\n",
              "         [0., 0., 0., 0., 0.]],\n",
              "\n",
              "        [[0., 0., 0., 0., 0.],\n",
              "         [0., 0., 0., 0., 0.],\n",
              "         [0., 0., 0., 0., 0.],\n",
              "         [0., 0., 0., 0., 0.]],\n",
              "\n",
              "        [[0., 0., 0., 0., 0.],\n",
              "         [0., 0., 0., 0., 0.],\n",
              "         [0., 0., 0., 0., 0.],\n",
              "         [0., 0., 0., 0., 0.]]]], dtype=float32)>"
            ]
          },
          "metadata": {},
          "execution_count": 74
        }
      ]
    },
    {
      "cell_type": "code",
      "source": [
        "rank_4_tensor[0]"
      ],
      "metadata": {
        "colab": {
          "base_uri": "https://localhost:8080/"
        },
        "id": "HY1SqE2wBVKQ",
        "outputId": "1abc2404-6b48-460d-96a0-f00750103387"
      },
      "execution_count": 75,
      "outputs": [
        {
          "output_type": "execute_result",
          "data": {
            "text/plain": [
              "<tf.Tensor: shape=(3, 4, 5), dtype=float32, numpy=\n",
              "array([[[0., 0., 0., 0., 0.],\n",
              "        [0., 0., 0., 0., 0.],\n",
              "        [0., 0., 0., 0., 0.],\n",
              "        [0., 0., 0., 0., 0.]],\n",
              "\n",
              "       [[0., 0., 0., 0., 0.],\n",
              "        [0., 0., 0., 0., 0.],\n",
              "        [0., 0., 0., 0., 0.],\n",
              "        [0., 0., 0., 0., 0.]],\n",
              "\n",
              "       [[0., 0., 0., 0., 0.],\n",
              "        [0., 0., 0., 0., 0.],\n",
              "        [0., 0., 0., 0., 0.],\n",
              "        [0., 0., 0., 0., 0.]]], dtype=float32)>"
            ]
          },
          "metadata": {},
          "execution_count": 75
        }
      ]
    },
    {
      "cell_type": "code",
      "source": [
        "rank_4_tensor.shape, rank_4_tensor.ndim,tf.size(rank_4_tensor)"
      ],
      "metadata": {
        "colab": {
          "base_uri": "https://localhost:8080/"
        },
        "id": "xbpZCznRnL6g",
        "outputId": "f4c31a5b-6d5f-4c0b-8a68-5607b7152c45"
      },
      "execution_count": 76,
      "outputs": [
        {
          "output_type": "execute_result",
          "data": {
            "text/plain": [
              "(TensorShape([2, 3, 4, 5]), 4, <tf.Tensor: shape=(), dtype=int32, numpy=120>)"
            ]
          },
          "metadata": {},
          "execution_count": 76
        }
      ]
    },
    {
      "cell_type": "code",
      "source": [
        "2*3*4*5"
      ],
      "metadata": {
        "colab": {
          "base_uri": "https://localhost:8080/"
        },
        "id": "DMXc76v1nLsZ",
        "outputId": "0be2d4d1-bd43-4106-ac4c-f3c2e265295f"
      },
      "execution_count": 77,
      "outputs": [
        {
          "output_type": "execute_result",
          "data": {
            "text/plain": [
              "120"
            ]
          },
          "metadata": {},
          "execution_count": 77
        }
      ]
    },
    {
      "cell_type": "code",
      "source": [
        "# GEt the various attributes of our tensor\n",
        "print(\"Datatype of every element:\", rank_4_tensor.dtype)\n",
        "print(\"Number of dimensions (rank):\", rank_4_tensor.ndim)\n",
        "print(\"Shape of tensor:\", rank_4_tensor.shape)\n",
        "print(\"Elements along the 0 axis\", rank_4_tensor.shape[0])\n",
        "print(\"Elements along the last axis:\",rank_4_tensor.shape[-1])\n",
        "print(\"Total number of elements in out tensor:\", tf.size(rank_4_tensor))\n",
        "print(\"Total number of elements in out tensor:\", tf.size(rank_4_tensor).numpy())\n"
      ],
      "metadata": {
        "colab": {
          "base_uri": "https://localhost:8080/"
        },
        "id": "nu-WyGSynLel",
        "outputId": "865c8012-5e77-45b4-bbfe-e3f60d25e08e"
      },
      "execution_count": 78,
      "outputs": [
        {
          "output_type": "stream",
          "name": "stdout",
          "text": [
            "Datatype of every element: <dtype: 'float32'>\n",
            "Number of dimensions (rank): 4\n",
            "Shape of tensor: (2, 3, 4, 5)\n",
            "Elements along the 0 axis 2\n",
            "Elements along the last axis: 5\n",
            "Total number of elements in out tensor: tf.Tensor(120, shape=(), dtype=int32)\n",
            "Total number of elements in out tensor: 120\n"
          ]
        }
      ]
    },
    {
      "cell_type": "markdown",
      "source": [
        "## Indexing tensors\n",
        "Tensors can be indexed just like Python lists."
      ],
      "metadata": {
        "id": "nNLYDGVGnLaQ"
      }
    },
    {
      "cell_type": "code",
      "source": [
        "#Get the first 2 elements of each dimension\n",
        "rank_4_tensor[:2,:2,:2,:2]\n",
        "rank_4_tensor"
      ],
      "metadata": {
        "colab": {
          "base_uri": "https://localhost:8080/"
        },
        "id": "RsBFzqKSoeRZ",
        "outputId": "fdf28bf1-a49d-40d9-fe6f-6c84c43117d0"
      },
      "execution_count": 79,
      "outputs": [
        {
          "output_type": "execute_result",
          "data": {
            "text/plain": [
              "<tf.Tensor: shape=(2, 3, 4, 5), dtype=float32, numpy=\n",
              "array([[[[0., 0., 0., 0., 0.],\n",
              "         [0., 0., 0., 0., 0.],\n",
              "         [0., 0., 0., 0., 0.],\n",
              "         [0., 0., 0., 0., 0.]],\n",
              "\n",
              "        [[0., 0., 0., 0., 0.],\n",
              "         [0., 0., 0., 0., 0.],\n",
              "         [0., 0., 0., 0., 0.],\n",
              "         [0., 0., 0., 0., 0.]],\n",
              "\n",
              "        [[0., 0., 0., 0., 0.],\n",
              "         [0., 0., 0., 0., 0.],\n",
              "         [0., 0., 0., 0., 0.],\n",
              "         [0., 0., 0., 0., 0.]]],\n",
              "\n",
              "\n",
              "       [[[0., 0., 0., 0., 0.],\n",
              "         [0., 0., 0., 0., 0.],\n",
              "         [0., 0., 0., 0., 0.],\n",
              "         [0., 0., 0., 0., 0.]],\n",
              "\n",
              "        [[0., 0., 0., 0., 0.],\n",
              "         [0., 0., 0., 0., 0.],\n",
              "         [0., 0., 0., 0., 0.],\n",
              "         [0., 0., 0., 0., 0.]],\n",
              "\n",
              "        [[0., 0., 0., 0., 0.],\n",
              "         [0., 0., 0., 0., 0.],\n",
              "         [0., 0., 0., 0., 0.],\n",
              "         [0., 0., 0., 0., 0.]]]], dtype=float32)>"
            ]
          },
          "metadata": {},
          "execution_count": 79
        }
      ]
    },
    {
      "cell_type": "code",
      "source": [
        "some_list[:1]"
      ],
      "metadata": {
        "colab": {
          "base_uri": "https://localhost:8080/",
          "height": 176
        },
        "id": "5KCkGC0_ibhB",
        "outputId": "3e378138-d8c9-49fc-f01e-4d144f1b93a4"
      },
      "execution_count": 81,
      "outputs": [
        {
          "output_type": "error",
          "ename": "NameError",
          "evalue": "name 'some_list' is not defined",
          "traceback": [
            "\u001b[0;31m---------------------------------------------------------------------------\u001b[0m",
            "\u001b[0;31mNameError\u001b[0m                                 Traceback (most recent call last)",
            "\u001b[0;32m/tmp/ipython-input-81-1518981470.py\u001b[0m in \u001b[0;36m<cell line: 0>\u001b[0;34m()\u001b[0m\n\u001b[0;32m----> 1\u001b[0;31m \u001b[0msome_list\u001b[0m\u001b[0;34m[\u001b[0m\u001b[0;34m:\u001b[0m\u001b[0;36m1\u001b[0m\u001b[0;34m]\u001b[0m\u001b[0;34m\u001b[0m\u001b[0;34m\u001b[0m\u001b[0m\n\u001b[0m",
            "\u001b[0;31mNameError\u001b[0m: name 'some_list' is not defined"
          ]
        }
      ]
    },
    {
      "cell_type": "code",
      "source": [
        "# Get the first element from each dimension from each index except for the final one\n",
        "rank_4_tensor[:1,:1,:1,:]"
      ],
      "metadata": {
        "colab": {
          "base_uri": "https://localhost:8080/"
        },
        "id": "aWg6L9p2oeN3",
        "outputId": "15c6d6fb-8362-49c3-85d0-a9644a2fb708"
      },
      "execution_count": 85,
      "outputs": [
        {
          "output_type": "execute_result",
          "data": {
            "text/plain": [
              "<tf.Tensor: shape=(1, 1, 1, 5), dtype=float32, numpy=array([[[[0., 0., 0., 0., 0.]]]], dtype=float32)>"
            ]
          },
          "metadata": {},
          "execution_count": 85
        }
      ]
    },
    {
      "cell_type": "code",
      "source": [
        "# Create a rank 2 tensor (2 dimensions)\n",
        "rank_2_tensor = tf.constant([[10,7],\n",
        "                            [3,4]])\n",
        "rank_2_tensor.shape, rank_4_tensor.ndim"
      ],
      "metadata": {
        "id": "edaggmYESKci",
        "colab": {
          "base_uri": "https://localhost:8080/"
        },
        "outputId": "91fe3e0c-c0a0-49c0-81ac-65eba699d0ac"
      },
      "execution_count": 86,
      "outputs": [
        {
          "output_type": "execute_result",
          "data": {
            "text/plain": [
              "(TensorShape([2, 2]), 4)"
            ]
          },
          "metadata": {},
          "execution_count": 86
        }
      ]
    },
    {
      "cell_type": "code",
      "source": [
        "# Get the last item of each of row of our rank 2 tensor\n",
        "rank_2_tensor[:,-1]"
      ],
      "metadata": {
        "id": "E87n07e8SKXd",
        "colab": {
          "base_uri": "https://localhost:8080/"
        },
        "outputId": "f8222276-eb00-4dba-8ffb-eca396c01f55"
      },
      "execution_count": 89,
      "outputs": [
        {
          "output_type": "execute_result",
          "data": {
            "text/plain": [
              "<tf.Tensor: shape=(2,), dtype=int32, numpy=array([7, 4], dtype=int32)>"
            ]
          },
          "metadata": {},
          "execution_count": 89
        }
      ]
    }
  ]
}