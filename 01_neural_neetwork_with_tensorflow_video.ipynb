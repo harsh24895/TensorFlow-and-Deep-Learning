{
  "nbformat": 4,
  "nbformat_minor": 0,
  "metadata": {
    "colab": {
      "provenance": [],
      "authorship_tag": "ABX9TyOKbEPeISFx//ABkft77pWs"
    },
    "kernelspec": {
      "name": "python3",
      "display_name": "Python 3"
    },
    "language_info": {
      "name": "python"
    }
  },
  "cells": [
    {
      "cell_type": "markdown",
      "source": [
        "# Introduction to regression with Neural Networks in TensorsFlow\n",
        "\n",
        "There are many definiations for a regression problem but in our case, we are\n",
        "going to simplify it: predicting a numerical vairable based on some other combination\n",
        "of varibales, even shorter... predicting a number\n"
      ],
      "metadata": {
        "id": "JWjghjYitFwi"
      }
    },
    {
      "cell_type": "code",
      "source": [
        "# Import TensorFlow\n",
        "import tensorflow as tf\n",
        "print(tf.__version__)"
      ],
      "metadata": {
        "colab": {
          "base_uri": "https://localhost:8080/"
        },
        "id": "Hz94G55It0j6",
        "outputId": "70f6f89b-0db3-4117-eaab-1365911904f2"
      },
      "execution_count": 2,
      "outputs": [
        {
          "output_type": "stream",
          "name": "stdout",
          "text": [
            "2.19.0\n"
          ]
        }
      ]
    },
    {
      "cell_type": "code",
      "source": [],
      "metadata": {
        "id": "zDYOIkAOt0dM"
      },
      "execution_count": null,
      "outputs": []
    },
    {
      "cell_type": "code",
      "source": [],
      "metadata": {
        "id": "Ea3rA3Dot0Zs"
      },
      "execution_count": null,
      "outputs": []
    }
  ]
}